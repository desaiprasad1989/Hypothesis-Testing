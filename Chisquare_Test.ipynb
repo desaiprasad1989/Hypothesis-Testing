{
 "cells": [
  {
   "cell_type": "markdown",
   "id": "b1efa2b6-4010-4b69-a206-f37cc729c604",
   "metadata": {},
   "source": [
    "### Chi-Square test"
   ]
  },
  {
   "cell_type": "markdown",
   "id": "98f6bbad-7547-4944-9886-ab986851905e",
   "metadata": {},
   "source": [
    "##### Association between Device Type and Customer Satisfaction\n",
    "### Background:\n",
    "##### Mizzare Corporation has collected data on customer satisfaction levels for two types of smart home devices: Smart Thermostats and Smart Lights. They want to determine if there's a significant association between the type of device purchased and the customer's satisfaction level.\n",
    "### Data Provided:\n",
    "##### The data is summarized in a contingency table showing the counts of customers in each satisfaction level for both types of devices:"
   ]
  },
  {
   "cell_type": "markdown",
   "id": "74c95273-7ad2-4a93-b77b-9d716d847c63",
   "metadata": {},
   "source": [
    "###### Satisfaction\t               Smart Thermostat\t        Smart Light\t    Total\n",
    "###### Very Satisfied\t                  50\t                  70\t        120\n",
    "###### Satisfied\t                      80\t                  100\t        180\n",
    "###### Neutral\t                          60\t                  90\t        150\n",
    "###### Unsatisfied\t                      30\t                  50\t        80\n",
    "###### Very Unsatisfied\t                  20\t                  50\t        70\n",
    "###### Total\t                          240\t                  360\t        600\n",
    "\n"
   ]
  },
  {
   "cell_type": "markdown",
   "id": "8f0420e7-9c00-4961-9532-2e2e346645cb",
   "metadata": {},
   "source": [
    "### Objective:\r",
    "##### \n",
    "To use the Chi-Square test for independence to determine if there's a significant association between the type of smart home device purchase  (Smart Thermostats vs. Smart Lights) and the customer satisfaction level.s#### :\r\n",
    "1. State the Hypotheses:"
   ]
  },
  {
   "cell_type": "code",
   "execution_count": 1,
   "id": "4636f9b7-5d59-41a6-94a5-05eb2af3c6f8",
   "metadata": {},
   "outputs": [
    {
     "data": {
      "text/html": [
       "<div>\n",
       "<style scoped>\n",
       "    .dataframe tbody tr th:only-of-type {\n",
       "        vertical-align: middle;\n",
       "    }\n",
       "\n",
       "    .dataframe tbody tr th {\n",
       "        vertical-align: top;\n",
       "    }\n",
       "\n",
       "    .dataframe thead th {\n",
       "        text-align: right;\n",
       "    }\n",
       "</style>\n",
       "<table border=\"1\" class=\"dataframe\">\n",
       "  <thead>\n",
       "    <tr style=\"text-align: right;\">\n",
       "      <th></th>\n",
       "      <th>Satisfaction</th>\n",
       "      <th>Smart_Thermostat</th>\n",
       "      <th>Smart_Light</th>\n",
       "    </tr>\n",
       "  </thead>\n",
       "  <tbody>\n",
       "    <tr>\n",
       "      <th>0</th>\n",
       "      <td>Very Satisfied</td>\n",
       "      <td>50</td>\n",
       "      <td>70</td>\n",
       "    </tr>\n",
       "    <tr>\n",
       "      <th>1</th>\n",
       "      <td>Satisfied</td>\n",
       "      <td>80</td>\n",
       "      <td>100</td>\n",
       "    </tr>\n",
       "    <tr>\n",
       "      <th>2</th>\n",
       "      <td>Neutral</td>\n",
       "      <td>60</td>\n",
       "      <td>90</td>\n",
       "    </tr>\n",
       "    <tr>\n",
       "      <th>3</th>\n",
       "      <td>Unsatisfied</td>\n",
       "      <td>30</td>\n",
       "      <td>50</td>\n",
       "    </tr>\n",
       "    <tr>\n",
       "      <th>4</th>\n",
       "      <td>Very Unsatisfied</td>\n",
       "      <td>20</td>\n",
       "      <td>50</td>\n",
       "    </tr>\n",
       "  </tbody>\n",
       "</table>\n",
       "</div>"
      ],
      "text/plain": [
       "       Satisfaction  Smart_Thermostat  Smart_Light\n",
       "0    Very Satisfied                50           70\n",
       "1         Satisfied                80          100\n",
       "2           Neutral                60           90\n",
       "3       Unsatisfied                30           50\n",
       "4  Very Unsatisfied                20           50"
      ]
     },
     "execution_count": 1,
     "metadata": {},
     "output_type": "execute_result"
    }
   ],
   "source": [
    "import pandas as pd\n",
    "# Data\n",
    "data = {'Satisfaction' : ['Very Satisfied', 'Satisfied','Neutral','Unsatisfied','Very Unsatisfied'],\n",
    "        'Smart_Thermostat' : [50,80,60,30,20],\n",
    "        'Smart_Light' : [70,100,90,50,50]}\n",
    "\n",
    "df = pd.DataFrame(data)\n",
    "df"
   ]
  },
  {
   "cell_type": "markdown",
   "id": "8db564dd-5ce2-4ad7-bc72-01f1e7b949e0",
   "metadata": {},
   "source": [
    "#### 2. Compute the Chi-Square Statistic:"
   ]
  },
  {
   "cell_type": "code",
   "execution_count": 2,
   "id": "835c5ea3-5b37-4201-9e3f-ea3b37eb5971",
   "metadata": {},
   "outputs": [],
   "source": [
    "from scipy.stats import chi2_contingency"
   ]
  },
  {
   "cell_type": "code",
   "execution_count": 3,
   "id": "284d2495-fdc0-4523-a266-372787121d12",
   "metadata": {},
   "outputs": [
    {
     "name": "stdout",
     "output_type": "stream",
     "text": [
      "Chi2ContingencyResult(statistic=12.600000000000001, pvalue=0.0003857467556820071, dof=1, expected_freq=array([[9., 9.],\n",
      "       [5., 5.]]))\n",
      "0.0003857467556820071\n",
      "p value is  0.0003857467556820071\n",
      "Dependent (reject H0)\n"
     ]
    }
   ],
   "source": [
    "# defining the table\n",
    "d = [[14, 4], [0,10]]\n",
    "\n",
    "print(chi2_contingency(d))\n",
    "stat, p, dof, expected = chi2_contingency(d)\n",
    "print(p)\n",
    "# type(p)\n",
    "# interpret p-value\n",
    "alpha = 0.05\n",
    "print(\"p value is \",  p)\n",
    "if p < alpha:\n",
    "    print('Dependent (reject H0)')\n",
    "else:\n",
    "    print('Independent (H0 holds true)')"
   ]
  },
  {
   "cell_type": "code",
   "execution_count": null,
   "id": "926feda9-f07e-4e5b-830c-fca20f902e4e",
   "metadata": {},
   "outputs": [],
   "source": []
  }
 ],
 "metadata": {
  "kernelspec": {
   "display_name": "Python 3 (ipykernel)",
   "language": "python",
   "name": "python3"
  },
  "language_info": {
   "codemirror_mode": {
    "name": "ipython",
    "version": 3
   },
   "file_extension": ".py",
   "mimetype": "text/x-python",
   "name": "python",
   "nbconvert_exporter": "python",
   "pygments_lexer": "ipython3",
   "version": "3.12.4"
  }
 },
 "nbformat": 4,
 "nbformat_minor": 5
}
