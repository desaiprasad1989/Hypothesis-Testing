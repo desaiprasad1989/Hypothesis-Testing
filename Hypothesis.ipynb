{
 "cells": [
  {
   "cell_type": "markdown",
   "id": "65c4429f-3360-4d66-8bd3-3a856ff2eb94",
   "metadata": {},
   "source": [
    "### Hypothesis Testing"
   ]
  },
  {
   "cell_type": "markdown",
   "id": "69d1875d-67b6-4609-818a-79b925d800b3",
   "metadata": {},
   "source": [
    "### Background:\n",
    "Bombay hospitality Ltd. operates a franchise model for producing exotic Norwegian dinners throughout New England. The operating cost for a franchise in a week (W) is given by the equation W = $1,000 + $5X, where X represents the number of units produced in a week. Recent feedback from restaurant owners suggests that this cost model may no longer be accurate, as their observed weekly operating costs are higher.\n",
    "### Objective:\n",
    "To investigate the restaurant owners' claim about the increase in weekly operating costs using hypothesis testing."
   ]
  },
  {
   "cell_type": "markdown",
   "id": "a10dc5e2-2674-42af-a447-124f4241cd64",
   "metadata": {},
   "source": [
    "### Data Provided:\n",
    "   - The theoretical weekly operating cost model: W = $1,000 + $5X\n",
    "   - Sample of 25 restaurants with a mean weekly cost of Rs. 3,050\n",
    "   - Number of units produced in a week (X) follows a normal distribution with a mean (μ) of 600 units and a standard deviation (σ) of 25 units\n",
    "### Assignment Tasks:\n",
    "1. State the Hypotheses statement:\n",
    "2. Calculate the Test Statistic:\n",
    "Use the following formula to calculate the test statistic (t):\n",
    "where:\n",
    "    - ˉxˉ = sample mean weekly cost (Rs. 3,050)\n",
    "    - μ = theoretical mean weekly cost according to the cost model (W = $1,000 + $5X for X = 600 units)\n",
    "    - σ = 5*25 units\n",
    "    - n = sample size (25 restaurants)"
   ]
  },
  {
   "cell_type": "markdown",
   "id": "e03475fa-d980-4929-94b2-6eba5375062a",
   "metadata": {},
   "source": [
    "### Step 1: Stating Hypothesis Statements"
   ]
  },
  {
   "cell_type": "markdown",
   "id": "b3ff4c21-b41b-425e-aaf0-120f64e28e31",
   "metadata": {},
   "source": [
    "#### Statememts\n",
    "#### H0 = Null Hypothesis\n",
    "#### H1 = Alternate Hypothesis\n",
    "- H0 =  \"Weekly operating costs are not higher for producing number of units.\"\n",
    "- H1 =  \"Weekly operating costs are higher for producing number of units.\""
   ]
  },
  {
   "cell_type": "markdown",
   "id": "47f6d1f7-01a7-4740-bd93-8a21a361ac52",
   "metadata": {},
   "source": [
    "### Step 2: Calculating Test Statistic:"
   ]
  },
  {
   "cell_type": "code",
   "execution_count": 2,
   "id": "d1554503-217e-4400-ad6c-51a4883ed5f9",
   "metadata": {},
   "outputs": [],
   "source": [
    "import numpy as np\n",
    "import scipy.stats as stats"
   ]
  },
  {
   "cell_type": "code",
   "execution_count": 3,
   "id": "91376f93-f9f9-4744-baf6-92cde29a891a",
   "metadata": {},
   "outputs": [],
   "source": [
    "## Given Data\n",
    "xbar = 3050\n",
    "Mue = 600\n",
    "std_dev = 125\n",
    "n =25\n",
    "dof = n-1"
   ]
  },
  {
   "cell_type": "code",
   "execution_count": 8,
   "id": "ab151159-0980-49d5-9735-1a9694c6c325",
   "metadata": {},
   "outputs": [
    {
     "data": {
      "text/plain": [
       "array([42, 13, 20, 35, 23, 45, 47, 21, 24, 27, 23, 15, 36, 28, 25, 38, 21,\n",
       "       46, 19, 41, 45, 19, 34, 15, 10])"
      ]
     },
     "execution_count": 8,
     "metadata": {},
     "output_type": "execute_result"
    }
   ],
   "source": [
    "# Creating dummy dataset for units assuming number of sample is 25\n",
    "data = np.random.randint(10, 50, 25)\n",
    "data"
   ]
  },
  {
   "cell_type": "code",
   "execution_count": 10,
   "id": "c4310577-316e-4267-b503-b35588857b04",
   "metadata": {},
   "outputs": [
    {
     "data": {
      "text/plain": [
       "98.0"
      ]
     },
     "execution_count": 10,
     "metadata": {},
     "output_type": "execute_result"
    }
   ],
   "source": [
    "## t test Formula = (xbar - mue) / (sigma / sqrt(n))\n",
    "\n",
    "t_test = (xbar - Mue) / (std_dev / np.sqrt(n))\n",
    "t_test"
   ]
  },
  {
   "cell_type": "markdown",
   "id": "620d2f0e-5645-4ad2-8179-084398e23233",
   "metadata": {},
   "source": [
    "### Step 3: Determine the Critical Value:\n",
    "##### Using the alpha level of 5% (α = 0.05), determine the critical value from the standard normal (Z) distribution table."
   ]
  },
  {
   "cell_type": "code",
   "execution_count": 12,
   "id": "90e77ff0-fe78-4263-9981-bce134c3f48e",
   "metadata": {},
   "outputs": [
    {
     "name": "stdout",
     "output_type": "stream",
     "text": [
      "1.7108820799094275\n"
     ]
    }
   ],
   "source": [
    "# Calculate the critical t-value\n",
    "alpha = 0.05\n",
    "critical_t = stats.t.ppf(1 - alpha, dof)\n",
    "print(critical_t)"
   ]
  },
  {
   "cell_type": "code",
   "execution_count": 16,
   "id": "c14b71ae-35df-4a4c-8319-3abe778542d2",
   "metadata": {},
   "outputs": [
    {
     "name": "stdout",
     "output_type": "stream",
     "text": [
      "-15.91782879095344 2.9585482693182726e-14\n"
     ]
    }
   ],
   "source": [
    "## Calculating test statistics\n",
    "t_stat, p_value = stats.ttest_1samp(data,65)\n",
    "print(t_stat, p_value)"
   ]
  },
  {
   "cell_type": "markdown",
   "id": "eb60f51e-a591-4537-91d7-0171824d2830",
   "metadata": {},
   "source": [
    "### Step 4: Make a Decision:\n",
    "#### Compare the test statistic with the critical value to decide whether to reject the null hypothesis."
   ]
  },
  {
   "cell_type": "code",
   "execution_count": 24,
   "id": "3377810a-187e-4e63-8e9d-e2e6566a7b6c",
   "metadata": {},
   "outputs": [
    {
     "name": "stdout",
     "output_type": "stream",
     "text": [
      "T-Statistic: -15.91782879095344\n",
      "Critical t-value: 1.7108820799094275\n",
      "P-Value: 2.9585482693182726e-14\n",
      "Conclusion: \n",
      "With T-value :\n",
      "Reject null hypothesis.\n",
      "With P-value :\n",
      "Reject null hypothesis.\n"
     ]
    }
   ],
   "source": [
    "# Decision\n",
    "# Print the results\n",
    "print(\"T-Statistic:\", t_stat)\n",
    "print(\"Critical t-value:\", critical_t)\n",
    "print(\"P-Value:\", p_value)\n",
    "\n",
    "print(\"Conclusion: \")\n",
    "print('With T-value :')\n",
    "if t_stat < critical_t:\n",
    "    print(\"\"\"Reject null hypothesis.\"\"\")\n",
    "else:\n",
    "    print(\"\"\"Fail to reject null hypothesis.\"\"\")\n",
    "\n",
    "print('With P-value :')\n",
    "if p_value < alpha:\n",
    "    print(\"\"\"Reject null hypothesis.\"\"\")\n",
    "else:\n",
    "     print(\"\"\"Fail to reject null hypothesis.\"\"\")"
   ]
  },
  {
   "cell_type": "markdown",
   "id": "b438bd9a-cc2d-402c-8118-9d4d119033b7",
   "metadata": {},
   "source": [
    "### Step 5: Conclusion:\n",
    "##### Based on the decision in step 4, conclude whether there is strong evidence to support the restaurant owners' claim that the weekly operating costs are higher than the model suggests."
   ]
  },
  {
   "cell_type": "code",
   "execution_count": 27,
   "id": "1288e2d4-7be0-4290-99d3-1fe768307a2a",
   "metadata": {},
   "outputs": [
    {
     "name": "stdout",
     "output_type": "stream",
     "text": [
      "Since There is a significant difference in proportions.\n",
      "The p_value is less than alpha and t_stat value is less than critical_t value. The weekly operating costs are higher for producing number of units\n",
      "We reject Null Hypothesis\n"
     ]
    }
   ],
   "source": [
    "print(\"Since There is a significant difference in proportions.\")\n",
    "print(\"The p_value is less than alpha and t_stat value is less than critical_t value. The weekly operating costs are higher for producing number of units\")\n",
    "print(\"We reject Null Hypothesis\")"
   ]
  },
  {
   "cell_type": "code",
   "execution_count": null,
   "id": "e223ce78-0aa6-4e04-97b5-dfbdb02a4817",
   "metadata": {},
   "outputs": [],
   "source": []
  }
 ],
 "metadata": {
  "kernelspec": {
   "display_name": "Python 3 (ipykernel)",
   "language": "python",
   "name": "python3"
  },
  "language_info": {
   "codemirror_mode": {
    "name": "ipython",
    "version": 3
   },
   "file_extension": ".py",
   "mimetype": "text/x-python",
   "name": "python",
   "nbconvert_exporter": "python",
   "pygments_lexer": "ipython3",
   "version": "3.12.4"
  }
 },
 "nbformat": 4,
 "nbformat_minor": 5
}
